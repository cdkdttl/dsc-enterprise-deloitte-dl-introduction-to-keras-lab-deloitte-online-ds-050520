{
 "cells": [
  {
   "cell_type": "markdown",
   "metadata": {},
   "source": [
    "# Keras - Lab\n",
    "\n",
    "## Introduction\n",
    "\n",
    "In this lab you'll once again build a neural network but this time with much less production time since we will be using Keras to do a lot of the heavy lifting building blocks which we coded from hand previously.  Our use case will be classifying Bank complaints.\n",
    "\n",
    "\n",
    "## Objectives\n",
    "\n",
    "You will be able to:\n",
    "* Build a neural network using Keras"
   ]
  },
  {
   "cell_type": "markdown",
   "metadata": {},
   "source": [
    "## Loading Required Packages\n",
    "\n",
    "Here we'll import all of the various packages that we'll use in this code along. We'll point out where these imports were used as they come up in the lab."
   ]
  },
  {
   "cell_type": "code",
   "execution_count": 13,
   "metadata": {},
   "outputs": [],
   "source": [
    "import matplotlib.pyplot as plt\n",
    "import pandas as pd\n",
    "import numpy as np\n",
    "import random\n",
    "from sklearn.model_selection import train_test_split\n",
    "from keras.utils.np_utils import to_categorical\n",
    "from sklearn import preprocessing\n",
    "from keras.preprocessing.text import Tokenizer\n",
    "from keras import models\n",
    "from keras import layers\n",
    "from keras import optimizers"
   ]
  },
  {
   "cell_type": "markdown",
   "metadata": {},
   "source": [
    "## Loading the data\n",
    "\n",
    "As usual, we will start our data science process by importing the data itself.  \n",
    "Load and preview as a pandas dataframe.   \n",
    "The data is stored in a file **Bank_complaints.csv**."
   ]
  },
  {
   "cell_type": "code",
   "execution_count": 14,
   "metadata": {},
   "outputs": [],
   "source": [
    "#Your code here\n",
    "#import pandas as pd #As reference; already imported above\n",
    "\n",
    "df = pd.read_csv('Bank_complaints.csv')"
   ]
  },
  {
   "cell_type": "markdown",
   "metadata": {},
   "source": [
    "## Further Preview of the Categories\n",
    "\n",
    "As we said, our task here is to categorize banking complaints into various predefined categories. Preview what these categories are and what percent of the complaints each accounts for."
   ]
  },
  {
   "cell_type": "code",
   "execution_count": 15,
   "metadata": {},
   "outputs": [
    {
     "data": {
      "text/html": [
       "<div>\n",
       "<style scoped>\n",
       "    .dataframe tbody tr th:only-of-type {\n",
       "        vertical-align: middle;\n",
       "    }\n",
       "\n",
       "    .dataframe tbody tr th {\n",
       "        vertical-align: top;\n",
       "    }\n",
       "\n",
       "    .dataframe thead th {\n",
       "        text-align: right;\n",
       "    }\n",
       "</style>\n",
       "<table border=\"1\" class=\"dataframe\">\n",
       "  <thead>\n",
       "    <tr style=\"text-align: right;\">\n",
       "      <th></th>\n",
       "      <th>Product</th>\n",
       "      <th>Consumer complaint narrative</th>\n",
       "    </tr>\n",
       "  </thead>\n",
       "  <tbody>\n",
       "    <tr>\n",
       "      <td>0</td>\n",
       "      <td>Student loan</td>\n",
       "      <td>In XX/XX/XXXX I filled out the Fedlaon applica...</td>\n",
       "    </tr>\n",
       "    <tr>\n",
       "      <td>1</td>\n",
       "      <td>Student loan</td>\n",
       "      <td>I am being contacted by a debt collector for p...</td>\n",
       "    </tr>\n",
       "    <tr>\n",
       "      <td>2</td>\n",
       "      <td>Student loan</td>\n",
       "      <td>I cosigned XXXX student loans at SallieMae for...</td>\n",
       "    </tr>\n",
       "    <tr>\n",
       "      <td>3</td>\n",
       "      <td>Student loan</td>\n",
       "      <td>Navient has sytematically and illegally failed...</td>\n",
       "    </tr>\n",
       "    <tr>\n",
       "      <td>4</td>\n",
       "      <td>Student loan</td>\n",
       "      <td>My wife became eligible for XXXX Loan Forgiven...</td>\n",
       "    </tr>\n",
       "  </tbody>\n",
       "</table>\n",
       "</div>"
      ],
      "text/plain": [
       "        Product                       Consumer complaint narrative\n",
       "0  Student loan  In XX/XX/XXXX I filled out the Fedlaon applica...\n",
       "1  Student loan  I am being contacted by a debt collector for p...\n",
       "2  Student loan  I cosigned XXXX student loans at SallieMae for...\n",
       "3  Student loan  Navient has sytematically and illegally failed...\n",
       "4  Student loan  My wife became eligible for XXXX Loan Forgiven..."
      ]
     },
     "execution_count": 15,
     "metadata": {},
     "output_type": "execute_result"
    }
   ],
   "source": [
    "#Your code here\n",
    "df.head()"
   ]
  },
  {
   "cell_type": "markdown",
   "metadata": {},
   "source": [
    "## Preprocessing\n",
    "\n",
    "Before we build our neural network, we need to do several preprocessing steps. First, we will create word vector counts (a bag of words type representation) of our complaints text. Next, we will change the category labels to integers. Finally, we will perform our usual train-test split before building and training our neural network using Keras. With that, let's start munging our data!"
   ]
  },
  {
   "cell_type": "markdown",
   "metadata": {},
   "source": [
    "## One-hot encoding of the complaints\n",
    "\n",
    "Our first step again is to transform our textual data into a numerical representation. As we've started to see in some of our previous lessons on NLP, there are many ways to do this. Here, we'll use the `Tokenizer` method from the `preprocessing` module of the Keras package.   \n",
    "\n",
    "As with our previous work using NLTK, this will transform our text complaints into word vectors. (Note that the method of creating a vector is different from our previous work with NLTK; as you'll see, word order will be preserved as opposed to a bag of words representation. In the below code, we'll only keep the 2,000 most common words and use one-hot encoding.\n",
    "\n",
    "Note that the code block below takes advantage of the following package import from our first code cell above.  \n",
    "`from keras.preprocessing.text import Tokenizer`"
   ]
  },
  {
   "cell_type": "code",
   "execution_count": 16,
   "metadata": {},
   "outputs": [],
   "source": [
    "#As a quick preliminary, briefly review the docstring for the Keras.preprocessing.text.Tokenizer method:\n",
    "Tokenizer?"
   ]
  },
  {
   "cell_type": "code",
   "execution_count": 17,
   "metadata": {},
   "outputs": [
    {
     "name": "stdout",
     "output_type": "stream",
     "text": [
      "sequences type: <class 'list'>\n",
      "one_hot_results type: <class 'numpy.ndarray'>\n",
      "Found 50110 unique tokens.\n",
      "Dimensions of our coded results: (60000, 2000)\n"
     ]
    }
   ],
   "source": [
    "#Now onto the actual code recipe...\n",
    "#⏰ This cell may take about a thirty seconds to run\n",
    "complaints = df[\"Consumer complaint narrative\"] #Our raw text complaints\n",
    "\n",
    "tokenizer = Tokenizer(num_words=2000) #Initialize a tokenizer.\n",
    "\n",
    "tokenizer.fit_on_texts(complaints) #Fit it to the complaints\n",
    "\n",
    "sequences = tokenizer.texts_to_sequences(complaints) #Generate sequences\n",
    "print('sequences type:', type(sequences))\n",
    "\n",
    "one_hot_results= tokenizer.texts_to_matrix(complaints, mode='binary') #Similar to sequences, but returns a numpy array\n",
    "print('one_hot_results type:', type(one_hot_results))\n",
    "\n",
    "word_index = tokenizer.word_index #Useful if we wish to decode (more explanation below)\n",
    "\n",
    "print('Found %s unique tokens.' % len(word_index)) #Tokens are the number of unique words across the corpus\n",
    "\n",
    "\n",
    "print('Dimensions of our coded results:', np.shape(one_hot_results)) #Our coded data"
   ]
  },
  {
   "cell_type": "markdown",
   "metadata": {},
   "source": [
    "## Decoding our Word Vectors\n",
    "As a note, you can also decode these vectorized representations of the reviews. The `word_index` variable, defined above, stores the mapping from the label number to the actual word. Somewhat tediously, we can turn this dictionary inside out and map it back to our word vectors, giving us roughly the original complaint back. (As you'll see, the text won't be identical as we limited ourselves to 200 words.)"
   ]
  },
  {
   "cell_type": "markdown",
   "metadata": {},
   "source": [
    "## Python Review / Mini Challenge\n",
    "\n",
    "While a bit tangential to our main topic of interest, we need to reverse our current dictionary `word_index` which maps words from our corpus to integers. In decoding our one_hot_results, we will need to create a dictionary of these integers to the original words. Below, take the `word_index` dictionary object and change the orientation so that the values are keys and the keys values. In other words, you are transforming something of the form {A:1, B:2, C:3} to {1:A, 2:B, 3:C}"
   ]
  },
  {
   "cell_type": "code",
   "execution_count": 18,
   "metadata": {},
   "outputs": [],
   "source": [
    "#Your code here\n",
    "reverse_index = {y:x for x,y in word_index.items()}"
   ]
  },
  {
   "cell_type": "markdown",
   "metadata": {},
   "source": [
    "## Back to Decoding Our Word Vectors..."
   ]
  },
  {
   "cell_type": "code",
   "execution_count": 19,
   "metadata": {},
   "outputs": [
    {
     "name": "stdout",
     "output_type": "stream",
     "text": [
      "Original complaint text:\n",
      "I have already filed several complaints about AES/PHEAA. I was notified by a XXXX XXXX let @ XXXX, who pretended to be from your office, he said he was from CFPB. I found out this morning he is n't from your office, but is actually works at XXXX. \n",
      "\n",
      "This has wasted weeks of my time. They AES/PHEAA confirmed and admitted ( see attached transcript of XXXX, conversation at XXXX ( XXXX ) with XXXX that proves they verified the loans are not mine ) the student loans they had XXXX, and collected on, and reported negate credit reporting in my name are in fact, not mine. \n",
      "They conclued their investigation on XXXX admitting they made a mistake and have my name on soneone elses loans. I these XXXX loans total {$10000.00}, original amount. My XXXX loans I got was total {$3500.00}. We proved by providing AES/PHEAA, this with my original promissary notes I located recently, the XXXX of my college provided AES/PHEAA with their original shoeinf amounts of my XXXX loans which show different dates and amounts, the dates and amounts are not even close to matching these loans they have in my name, The original lender, XXXX XXXX Bank notifying AES/PHEAA, they never issued me a student loan, and original Loan Guarantor, XXXX, notifying AES/PHEAA, they never were guarantor of my loans. \n",
      "\n",
      "XXXX straight forward. But today, this person, XXXX XXXX, told me they know these loans are not mine, and they refuse to remove my name off these XXXX loan 's and correct their mistake, essentially forcing me to pay these loans off, bucause in XXXX they sold the loans to XXXX loans. \n",
      "\n",
      "This is absurd, first protruding to be this office, and then refusing to correct their mistake. \n",
      "\n",
      "Please for the love of XXXX will soneone from your office call me at XXXX, today. I am a XXXX vet and they are knowingly discriminating against me. \n",
      "Pretending to be you.\n",
      "\n",
      "\n",
      "\n",
      "Decoded review from Tokenizer:\n",
      "i have already filed several complaints about aes i was notified by a xxxx xxxx let xxxx who to be from your office he said he was from cfpb i found out this morning he is n't from your office but is actually works at xxxx this has weeks of my time they aes confirmed and admitted see attached of xxxx conversation at xxxx xxxx with xxxx that they verified the loans are not mine the student loans they had xxxx and on and reported credit reporting in my name are in fact not mine they their investigation on xxxx they made a mistake and have my name on loans i these xxxx loans total 10000 00 original amount my xxxx loans i got was total 00 we by providing aes this with my original notes i located recently the xxxx of my college provided aes with their original amounts of my xxxx loans which show different dates and amounts the dates and amounts are not even close to these loans they have in my name the original lender xxxx xxxx bank notifying aes they never issued me a student loan and original loan xxxx notifying aes they never were of my loans xxxx forward but today this person xxxx xxxx told me they know these loans are not mine and they refuse to remove my name off these xxxx loan 's and correct their mistake essentially me to pay these loans off in xxxx they sold the loans to xxxx loans this is first to be this office and then refusing to correct their mistake please for the of xxxx will from your office call me at xxxx today i am a xxxx and they are against me to be you\n"
     ]
    }
   ],
   "source": [
    "comment_idx_to_preview = 19\n",
    "print('Original complaint text:')\n",
    "print(complaints[comment_idx_to_preview])\n",
    "print('\\n\\n')\n",
    "\n",
    "#The reverse_index cell block above must be complete in order for this cell block to successively execute.\n",
    "decoded_review = ' '.join([reverse_index.get(i) for i in sequences[comment_idx_to_preview]])\n",
    "print('Decoded review from Tokenizer:')\n",
    "print(decoded_review)"
   ]
  },
  {
   "cell_type": "markdown",
   "metadata": {},
   "source": [
    "## Convert the Products to Numerical Categories\n",
    "\n",
    "On to step two of our preprocessing: converting our descriptive categories into integers."
   ]
  },
  {
   "cell_type": "code",
   "execution_count": 20,
   "metadata": {},
   "outputs": [
    {
     "name": "stdout",
     "output_type": "stream",
     "text": [
      "Original class labels:\n",
      "['Bank account or service', 'Checking or savings account', 'Consumer Loan', 'Credit card', 'Credit reporting', 'Mortgage', 'Student loan']\n",
      "\n",
      "\n",
      "New product labels:\n",
      "[6 6 6 ... 4 4 4]\n",
      "\n",
      "\n",
      "One hot labels; 7 binary columns, one for each of the categories.\n",
      "[[0. 0. 0. ... 0. 0. 1.]\n",
      " [0. 0. 0. ... 0. 0. 1.]\n",
      " [0. 0. 0. ... 0. 0. 1.]\n",
      " ...\n",
      " [0. 0. 0. ... 1. 0. 0.]\n",
      " [0. 0. 0. ... 1. 0. 0.]\n",
      " [0. 0. 0. ... 1. 0. 0.]]\n",
      "\n",
      "\n",
      "One hot labels shape:\n",
      "(60000, 7)\n"
     ]
    }
   ],
   "source": [
    "product = df[\"Product\"]\n",
    "\n",
    "le = preprocessing.LabelEncoder() #Initialize. le used as abbreviation fo label encoder\n",
    "le.fit(product)\n",
    "print(\"Original class labels:\")\n",
    "print(list(le.classes_))\n",
    "print('\\n')\n",
    "product_cat = le.transform(product)  \n",
    "#list(le.inverse_transform([0, 1, 3, 3, 0, 6, 4])) #If you wish to retrieve the original descriptive labels post production\n",
    "\n",
    "print('New product labels:')\n",
    "print(product_cat)\n",
    "print('\\n')\n",
    "\n",
    "\n",
    "print('One hot labels; 7 binary columns, one for each of the categories.') #Each row will be all zeros except for the category for that observation.\n",
    "product_onehot = to_categorical(product_cat)\n",
    "print(product_onehot)\n",
    "print('\\n')\n",
    "\n",
    "print('One hot labels shape:')\n",
    "print(np.shape(product_onehot))"
   ]
  },
  {
   "cell_type": "markdown",
   "metadata": {},
   "source": [
    "## Train - test split\n",
    "\n",
    "Now for our final preprocessing step: the usual train-test split."
   ]
  },
  {
   "cell_type": "code",
   "execution_count": 21,
   "metadata": {},
   "outputs": [
    {
     "name": "stdout",
     "output_type": "stream",
     "text": [
      "Test label shape: (1500, 7)\n",
      "Train label shape: (58500, 7)\n",
      "Test shape: (1500, 2000)\n",
      "Train shape: (58500, 2000)\n"
     ]
    }
   ],
   "source": [
    "import random\n",
    "random.seed(123)\n",
    "test_index = random.sample(range(1,10000), 1500)\n",
    "\n",
    "test = one_hot_results[test_index]\n",
    "train = np.delete(one_hot_results, test_index, 0)\n",
    "\n",
    "\n",
    "label_test = product_onehot[test_index]\n",
    "label_train = np.delete(product_onehot, test_index, 0)\n",
    "\n",
    "print(\"Test label shape:\", np.shape(label_test))\n",
    "print(\"Train label shape:\", np.shape(label_train))\n",
    "print(\"Test shape:\", np.shape(test))\n",
    "print(\"Train shape:\", np.shape(train))"
   ]
  },
  {
   "cell_type": "markdown",
   "metadata": {},
   "source": [
    "## Building the network"
   ]
  },
  {
   "cell_type": "markdown",
   "metadata": {},
   "source": [
    "Let's build a fully connected (Dense) layer network with relu activations in Keras. You can do this using: `Dense(16, activation='relu')`."
   ]
  },
  {
   "cell_type": "markdown",
   "metadata": {},
   "source": [
    "In this example, use 2 hidden with 50 units in the first layer and 25 in the second, both with a `relu` activation function. Because we are dealing with a multiclass problem (classifying the complaints into 7 ), we use a use a softmax classifier in order to output 7 class probabilities per case.  \n",
    "\n",
    "The previous imports that you'll use here are:  \n",
    "\n",
    "```from keras import models\n",
    "from keras import layers```"
   ]
  },
  {
   "cell_type": "code",
   "execution_count": 22,
   "metadata": {},
   "outputs": [],
   "source": [
    "#Your code here; initialize a sequential model with 3 layers; \n",
    "from keras.models import Sequential\n",
    "from keras.layers import Dense\n",
    "\n",
    "model_1 = Sequential()\n",
    "model_1.add(Dense(16, activation='relu'))\n",
    "model_1.add(Dense(25, activation='relu'))\n",
    "model_1.add(Dense(25, activation='relu'))\n",
    "model_1.add(Dense(7, activation='softmax')) \n",
    "#two hidden relu and the final classification output using softmax"
   ]
  },
  {
   "cell_type": "markdown",
   "metadata": {},
   "source": [
    "## Compiling the model and look at the results\n",
    "\n",
    "Now, compile the model! This time, use `'categorical_crossentropy'` as the loss function and stochastic gradient descent, `'SGD'` as the optimizer. As in the previous lesson, include the accuracy as a metric."
   ]
  },
  {
   "cell_type": "code",
   "execution_count": 23,
   "metadata": {},
   "outputs": [],
   "source": [
    "#Your code here\n",
    "model_1.compile(loss='categorical_crossentropy', optimizer='SGD', metrics=['accuracy'])"
   ]
  },
  {
   "cell_type": "code",
   "execution_count": 27,
   "metadata": {},
   "outputs": [
    {
     "name": "stdout",
     "output_type": "stream",
     "text": [
      "_________________________________________________________________\n",
      "Layer (type)                 Output Shape              Param #   \n",
      "=================================================================\n",
      "dense_12 (Dense)             (None, 16)                32016     \n",
      "_________________________________________________________________\n",
      "dense_13 (Dense)             (None, 25)                425       \n",
      "_________________________________________________________________\n",
      "dense_14 (Dense)             (None, 25)                650       \n",
      "_________________________________________________________________\n",
      "dense_15 (Dense)             (None, 7)                 182       \n",
      "=================================================================\n",
      "Total params: 33,273\n",
      "Trainable params: 33,273\n",
      "Non-trainable params: 0\n",
      "_________________________________________________________________\n"
     ]
    }
   ],
   "source": [
    "model_1.summary()"
   ]
  },
  {
   "cell_type": "markdown",
   "metadata": {},
   "source": [
    "## Training the model\n",
    "\n",
    "In the compiler, you'll be passing the optimizer (SGD = stochastic gradient descent), loss function, and metrics. Train the model for 120 epochs in mini-batches of 256 samples.\n",
    "\n",
    "_Note:_ ⏰ _Your code may take about one to two minutes to run._"
   ]
  },
  {
   "cell_type": "code",
   "execution_count": 40,
   "metadata": {},
   "outputs": [
    {
     "name": "stdout",
     "output_type": "stream",
     "text": [
      "Train on 58500 samples, validate on 1500 samples\n",
      "Epoch 1/120\n",
      "58500/58500 [==============================] - 1s 17us/step - loss: 0.3316 - acc: 0.8787 - val_loss: 0.2334 - val_acc: 0.9360\n",
      "Epoch 2/120\n",
      "58500/58500 [==============================] - 1s 17us/step - loss: 0.3270 - acc: 0.8812 - val_loss: 0.2338 - val_acc: 0.9360\n",
      "Epoch 3/120\n",
      "58500/58500 [==============================] - 1s 17us/step - loss: 0.3248 - acc: 0.8818 - val_loss: 0.2319 - val_acc: 0.9380\n",
      "Epoch 4/120\n",
      "58500/58500 [==============================] - 1s 16us/step - loss: 0.3228 - acc: 0.8830 - val_loss: 0.2247 - val_acc: 0.9387\n",
      "Epoch 5/120\n",
      "58500/58500 [==============================] - 1s 17us/step - loss: 0.3210 - acc: 0.8832 - val_loss: 0.2308 - val_acc: 0.9373\n",
      "Epoch 6/120\n",
      "58500/58500 [==============================] - 1s 19us/step - loss: 0.3197 - acc: 0.8840 - val_loss: 0.2437 - val_acc: 0.9360\n",
      "Epoch 7/120\n",
      "58500/58500 [==============================] - 1s 17us/step - loss: 0.3185 - acc: 0.8845 - val_loss: 0.2370 - val_acc: 0.9373\n",
      "Epoch 8/120\n",
      "58500/58500 [==============================] - 1s 17us/step - loss: 0.3173 - acc: 0.8850 - val_loss: 0.2332 - val_acc: 0.9360\n",
      "Epoch 9/120\n",
      "58500/58500 [==============================] - 1s 20us/step - loss: 0.3159 - acc: 0.8856 - val_loss: 0.2446 - val_acc: 0.9333\n",
      "Epoch 10/120\n",
      "58500/58500 [==============================] - 1s 20us/step - loss: 0.3150 - acc: 0.8852 - val_loss: 0.2272 - val_acc: 0.9387\n",
      "Epoch 11/120\n",
      "58500/58500 [==============================] - 1s 17us/step - loss: 0.3141 - acc: 0.8859 - val_loss: 0.2344 - val_acc: 0.9373\n",
      "Epoch 12/120\n",
      "58500/58500 [==============================] - 1s 17us/step - loss: 0.3129 - acc: 0.8863 - val_loss: 0.2588 - val_acc: 0.9293\n",
      "Epoch 13/120\n",
      "58500/58500 [==============================] - 1s 16us/step - loss: 0.3119 - acc: 0.8871 - val_loss: 0.2412 - val_acc: 0.9360\n",
      "Epoch 14/120\n",
      "58500/58500 [==============================] - 1s 16us/step - loss: 0.3110 - acc: 0.8873 - val_loss: 0.2335 - val_acc: 0.9373\n",
      "Epoch 15/120\n",
      "58500/58500 [==============================] - 1s 17us/step - loss: 0.3100 - acc: 0.8872 - val_loss: 0.2687 - val_acc: 0.9280\n",
      "Epoch 16/120\n",
      "58500/58500 [==============================] - 1s 16us/step - loss: 0.3090 - acc: 0.8877 - val_loss: 0.2314 - val_acc: 0.9380\n",
      "Epoch 17/120\n",
      "58500/58500 [==============================] - 1s 18us/step - loss: 0.3082 - acc: 0.8882 - val_loss: 0.2331 - val_acc: 0.9380\n",
      "Epoch 18/120\n",
      "58500/58500 [==============================] - 1s 18us/step - loss: 0.3073 - acc: 0.8877 - val_loss: 0.2413 - val_acc: 0.9360\n",
      "Epoch 19/120\n",
      "58500/58500 [==============================] - 1s 19us/step - loss: 0.3065 - acc: 0.8880 - val_loss: 0.2489 - val_acc: 0.9340\n",
      "Epoch 20/120\n",
      "58500/58500 [==============================] - 1s 19us/step - loss: 0.3056 - acc: 0.8888 - val_loss: 0.2559 - val_acc: 0.9313\n",
      "Epoch 21/120\n",
      "58500/58500 [==============================] - 1s 18us/step - loss: 0.3047 - acc: 0.8896 - val_loss: 0.2454 - val_acc: 0.9367\n",
      "Epoch 22/120\n",
      "58500/58500 [==============================] - 1s 17us/step - loss: 0.3039 - acc: 0.8899 - val_loss: 0.2574 - val_acc: 0.9333\n",
      "Epoch 23/120\n",
      "58500/58500 [==============================] - 1s 17us/step - loss: 0.3030 - acc: 0.8894 - val_loss: 0.2637 - val_acc: 0.9280\n",
      "Epoch 24/120\n",
      "58500/58500 [==============================] - 1s 16us/step - loss: 0.3021 - acc: 0.8898 - val_loss: 0.2537 - val_acc: 0.9347\n",
      "Epoch 25/120\n",
      "58500/58500 [==============================] - 1s 19us/step - loss: 0.3014 - acc: 0.8906 - val_loss: 0.2656 - val_acc: 0.9293\n",
      "Epoch 26/120\n",
      "58500/58500 [==============================] - 1s 17us/step - loss: 0.3006 - acc: 0.8908 - val_loss: 0.2381 - val_acc: 0.9380\n",
      "Epoch 27/120\n",
      "58500/58500 [==============================] - 1s 16us/step - loss: 0.2996 - acc: 0.8912 - val_loss: 0.2510 - val_acc: 0.9333\n",
      "Epoch 28/120\n",
      "58500/58500 [==============================] - 1s 18us/step - loss: 0.2989 - acc: 0.8912 - val_loss: 0.2631 - val_acc: 0.9313\n",
      "Epoch 29/120\n",
      "58500/58500 [==============================] - 1s 19us/step - loss: 0.2979 - acc: 0.8913 - val_loss: 0.2385 - val_acc: 0.9387\n",
      "Epoch 30/120\n",
      "58500/58500 [==============================] - 1s 18us/step - loss: 0.2973 - acc: 0.8918 - val_loss: 0.2446 - val_acc: 0.9373\n",
      "Epoch 31/120\n",
      "58500/58500 [==============================] - 1s 16us/step - loss: 0.2966 - acc: 0.8917 - val_loss: 0.2602 - val_acc: 0.9313\n",
      "Epoch 32/120\n",
      "58500/58500 [==============================] - 1s 17us/step - loss: 0.2957 - acc: 0.8927 - val_loss: 0.2490 - val_acc: 0.9360\n",
      "Epoch 33/120\n",
      "58500/58500 [==============================] - 1s 16us/step - loss: 0.2949 - acc: 0.8932 - val_loss: 0.2638 - val_acc: 0.9320\n",
      "Epoch 34/120\n",
      "58500/58500 [==============================] - 1s 16us/step - loss: 0.2941 - acc: 0.8931 - val_loss: 0.2700 - val_acc: 0.9293\n",
      "Epoch 35/120\n",
      "58500/58500 [==============================] - 1s 16us/step - loss: 0.2933 - acc: 0.8934 - val_loss: 0.2719 - val_acc: 0.9287\n",
      "Epoch 36/120\n",
      "58500/58500 [==============================] - 1s 17us/step - loss: 0.2926 - acc: 0.8943 - val_loss: 0.2538 - val_acc: 0.9353\n",
      "Epoch 37/120\n",
      "58500/58500 [==============================] - 1s 17us/step - loss: 0.2917 - acc: 0.8944 - val_loss: 0.2757 - val_acc: 0.9287\n",
      "Epoch 38/120\n",
      "58500/58500 [==============================] - 1s 16us/step - loss: 0.2908 - acc: 0.8951 - val_loss: 0.2630 - val_acc: 0.9327\n",
      "Epoch 39/120\n",
      "58500/58500 [==============================] - 1s 17us/step - loss: 0.2902 - acc: 0.8949 - val_loss: 0.2760 - val_acc: 0.9280\n",
      "Epoch 40/120\n",
      "58500/58500 [==============================] - 1s 16us/step - loss: 0.2895 - acc: 0.8954 - val_loss: 0.2525 - val_acc: 0.9360\n",
      "Epoch 41/120\n",
      "58500/58500 [==============================] - 1s 17us/step - loss: 0.2888 - acc: 0.8956 - val_loss: 0.2716 - val_acc: 0.9287\n",
      "Epoch 42/120\n",
      "58500/58500 [==============================] - ETA: 0s - loss: 0.2880 - acc: 0.895 - 1s 17us/step - loss: 0.2880 - acc: 0.8957 - val_loss: 0.2450 - val_acc: 0.9380\n",
      "Epoch 43/120\n",
      "58500/58500 [==============================] - 1s 17us/step - loss: 0.2872 - acc: 0.8964 - val_loss: 0.2928 - val_acc: 0.9267\n",
      "Epoch 44/120\n",
      "58500/58500 [==============================] - 1s 16us/step - loss: 0.2864 - acc: 0.8966 - val_loss: 0.2725 - val_acc: 0.9307\n",
      "Epoch 45/120\n",
      "58500/58500 [==============================] - 1s 18us/step - loss: 0.2857 - acc: 0.8965 - val_loss: 0.2825 - val_acc: 0.9280\n",
      "Epoch 46/120\n",
      "58500/58500 [==============================] - 1s 17us/step - loss: 0.2848 - acc: 0.8977 - val_loss: 0.2895 - val_acc: 0.9267\n",
      "Epoch 47/120\n",
      "58500/58500 [==============================] - 1s 18us/step - loss: 0.2840 - acc: 0.8978 - val_loss: 0.2817 - val_acc: 0.9293\n",
      "Epoch 48/120\n",
      "58500/58500 [==============================] - 1s 18us/step - loss: 0.2831 - acc: 0.8982 - val_loss: 0.2661 - val_acc: 0.9320\n",
      "Epoch 49/120\n",
      "58500/58500 [==============================] - 1s 18us/step - loss: 0.2826 - acc: 0.8983 - val_loss: 0.2700 - val_acc: 0.9333\n",
      "Epoch 50/120\n",
      "58500/58500 [==============================] - 1s 18us/step - loss: 0.2817 - acc: 0.8985 - val_loss: 0.2808 - val_acc: 0.9287\n",
      "Epoch 51/120\n",
      "58500/58500 [==============================] - 1s 17us/step - loss: 0.2812 - acc: 0.8987 - val_loss: 0.2799 - val_acc: 0.9280\n",
      "Epoch 52/120\n",
      "58500/58500 [==============================] - 1s 17us/step - loss: 0.2802 - acc: 0.8995 - val_loss: 0.2736 - val_acc: 0.9333\n",
      "Epoch 53/120\n",
      "58500/58500 [==============================] - 1s 17us/step - loss: 0.2793 - acc: 0.8998 - val_loss: 0.2780 - val_acc: 0.9313\n",
      "Epoch 54/120\n",
      "58500/58500 [==============================] - 1s 20us/step - loss: 0.2789 - acc: 0.8989 - val_loss: 0.2757 - val_acc: 0.9333\n",
      "Epoch 55/120\n",
      "58500/58500 [==============================] - 1s 17us/step - loss: 0.2781 - acc: 0.9005 - val_loss: 0.2719 - val_acc: 0.9347\n",
      "Epoch 56/120\n",
      "58500/58500 [==============================] - 1s 17us/step - loss: 0.2772 - acc: 0.9003 - val_loss: 0.2814 - val_acc: 0.9300\n",
      "Epoch 57/120\n",
      "58500/58500 [==============================] - 1s 17us/step - loss: 0.2765 - acc: 0.9013 - val_loss: 0.2848 - val_acc: 0.9293\n",
      "Epoch 58/120\n",
      "58500/58500 [==============================] - 1s 17us/step - loss: 0.2758 - acc: 0.9010 - val_loss: 0.2722 - val_acc: 0.9340\n",
      "Epoch 59/120\n"
     ]
    },
    {
     "name": "stdout",
     "output_type": "stream",
     "text": [
      "58500/58500 [==============================] - 1s 17us/step - loss: 0.2751 - acc: 0.9020 - val_loss: 0.2835 - val_acc: 0.9307\n",
      "Epoch 60/120\n",
      "58500/58500 [==============================] - 1s 16us/step - loss: 0.2744 - acc: 0.9015 - val_loss: 0.2773 - val_acc: 0.9327\n",
      "Epoch 61/120\n",
      "58500/58500 [==============================] - 1s 16us/step - loss: 0.2736 - acc: 0.9020 - val_loss: 0.2649 - val_acc: 0.9353\n",
      "Epoch 62/120\n",
      "58500/58500 [==============================] - 1s 17us/step - loss: 0.2727 - acc: 0.9021 - val_loss: 0.2878 - val_acc: 0.9300\n",
      "Epoch 63/120\n",
      "58500/58500 [==============================] - 1s 16us/step - loss: 0.2722 - acc: 0.9024 - val_loss: 0.2695 - val_acc: 0.9360\n",
      "Epoch 64/120\n",
      "58500/58500 [==============================] - 1s 17us/step - loss: 0.2714 - acc: 0.9036 - val_loss: 0.2903 - val_acc: 0.9300\n",
      "Epoch 65/120\n",
      "58500/58500 [==============================] - 1s 19us/step - loss: 0.2709 - acc: 0.9029 - val_loss: 0.3020 - val_acc: 0.9260\n",
      "Epoch 66/120\n",
      "58500/58500 [==============================] - 1s 17us/step - loss: 0.2699 - acc: 0.9041 - val_loss: 0.2992 - val_acc: 0.9273\n",
      "Epoch 67/120\n",
      "58500/58500 [==============================] - 1s 17us/step - loss: 0.2693 - acc: 0.9039 - val_loss: 0.3005 - val_acc: 0.9267\n",
      "Epoch 68/120\n",
      "58500/58500 [==============================] - 1s 19us/step - loss: 0.2685 - acc: 0.9041 - val_loss: 0.2952 - val_acc: 0.9287\n",
      "Epoch 69/120\n",
      "58500/58500 [==============================] - 1s 19us/step - loss: 0.2678 - acc: 0.9043 - val_loss: 0.2992 - val_acc: 0.9260\n",
      "Epoch 70/120\n",
      "58500/58500 [==============================] - 1s 19us/step - loss: 0.2671 - acc: 0.9042 - val_loss: 0.3190 - val_acc: 0.9233\n",
      "Epoch 71/120\n",
      "58500/58500 [==============================] - 1s 17us/step - loss: 0.2666 - acc: 0.9051 - val_loss: 0.2922 - val_acc: 0.9293\n",
      "Epoch 72/120\n",
      "58500/58500 [==============================] - 1s 16us/step - loss: 0.2656 - acc: 0.9050 - val_loss: 0.2889 - val_acc: 0.9313\n",
      "Epoch 73/120\n",
      "58500/58500 [==============================] - 1s 16us/step - loss: 0.2648 - acc: 0.9054 - val_loss: 0.3082 - val_acc: 0.9240\n",
      "Epoch 74/120\n",
      "58500/58500 [==============================] - 1s 16us/step - loss: 0.2642 - acc: 0.9057 - val_loss: 0.2765 - val_acc: 0.9360\n",
      "Epoch 75/120\n",
      "58500/58500 [==============================] - 1s 16us/step - loss: 0.2636 - acc: 0.9061 - val_loss: 0.3296 - val_acc: 0.9233\n",
      "Epoch 76/120\n",
      "58500/58500 [==============================] - 1s 16us/step - loss: 0.2628 - acc: 0.9068 - val_loss: 0.3093 - val_acc: 0.9267\n",
      "Epoch 77/120\n",
      "58500/58500 [==============================] - 1s 17us/step - loss: 0.2620 - acc: 0.9065 - val_loss: 0.2934 - val_acc: 0.9307\n",
      "Epoch 78/120\n",
      "58500/58500 [==============================] - 1s 17us/step - loss: 0.2613 - acc: 0.9064 - val_loss: 0.3226 - val_acc: 0.9240\n",
      "Epoch 79/120\n",
      "58500/58500 [==============================] - 1s 17us/step - loss: 0.2604 - acc: 0.9082 - val_loss: 0.3089 - val_acc: 0.9287\n",
      "Epoch 80/120\n",
      "58500/58500 [==============================] - 1s 17us/step - loss: 0.2598 - acc: 0.9083 - val_loss: 0.2905 - val_acc: 0.9327\n",
      "Epoch 81/120\n",
      "58500/58500 [==============================] - 1s 16us/step - loss: 0.2591 - acc: 0.9082 - val_loss: 0.3008 - val_acc: 0.9300\n",
      "Epoch 82/120\n",
      "58500/58500 [==============================] - 1s 18us/step - loss: 0.2583 - acc: 0.9083 - val_loss: 0.3123 - val_acc: 0.9280\n",
      "Epoch 83/120\n",
      "58500/58500 [==============================] - 1s 17us/step - loss: 0.2573 - acc: 0.9086 - val_loss: 0.3142 - val_acc: 0.9267\n",
      "Epoch 84/120\n",
      "58500/58500 [==============================] - 1s 17us/step - loss: 0.2569 - acc: 0.9084 - val_loss: 0.3154 - val_acc: 0.9273\n",
      "Epoch 85/120\n",
      "58500/58500 [==============================] - 1s 18us/step - loss: 0.2561 - acc: 0.9092 - val_loss: 0.3013 - val_acc: 0.9300\n",
      "Epoch 86/120\n",
      "58500/58500 [==============================] - 1s 17us/step - loss: 0.2554 - acc: 0.9096 - val_loss: 0.2855 - val_acc: 0.9327\n",
      "Epoch 87/120\n",
      "58500/58500 [==============================] - 1s 17us/step - loss: 0.2547 - acc: 0.9103 - val_loss: 0.3197 - val_acc: 0.9247\n",
      "Epoch 88/120\n",
      "58500/58500 [==============================] - 1s 18us/step - loss: 0.2541 - acc: 0.9098 - val_loss: 0.3002 - val_acc: 0.9313\n",
      "Epoch 89/120\n",
      "58500/58500 [==============================] - 1s 19us/step - loss: 0.2534 - acc: 0.9099 - val_loss: 0.3204 - val_acc: 0.9253\n",
      "Epoch 90/120\n",
      "58500/58500 [==============================] - 1s 18us/step - loss: 0.2524 - acc: 0.9113 - val_loss: 0.2834 - val_acc: 0.9353\n",
      "Epoch 91/120\n",
      "58500/58500 [==============================] - 1s 16us/step - loss: 0.2518 - acc: 0.9113 - val_loss: 0.3302 - val_acc: 0.9220\n",
      "Epoch 92/120\n",
      "58500/58500 [==============================] - 1s 18us/step - loss: 0.2512 - acc: 0.9117 - val_loss: 0.2914 - val_acc: 0.9333\n",
      "Epoch 93/120\n",
      "58500/58500 [==============================] - 1s 16us/step - loss: 0.2504 - acc: 0.9110 - val_loss: 0.3235 - val_acc: 0.9247\n",
      "Epoch 94/120\n",
      "58500/58500 [==============================] - 1s 16us/step - loss: 0.2496 - acc: 0.9122 - val_loss: 0.3199 - val_acc: 0.9267\n",
      "Epoch 95/120\n",
      "58500/58500 [==============================] - 1s 16us/step - loss: 0.2490 - acc: 0.9124 - val_loss: 0.3029 - val_acc: 0.9300\n",
      "Epoch 96/120\n",
      "58500/58500 [==============================] - 1s 17us/step - loss: 0.2482 - acc: 0.9125 - val_loss: 0.2935 - val_acc: 0.9320\n",
      "Epoch 97/120\n",
      "58500/58500 [==============================] - 1s 16us/step - loss: 0.2476 - acc: 0.9130 - val_loss: 0.3150 - val_acc: 0.9273\n",
      "Epoch 98/120\n",
      "58500/58500 [==============================] - 1s 16us/step - loss: 0.2469 - acc: 0.9127 - val_loss: 0.3017 - val_acc: 0.9280\n",
      "Epoch 99/120\n",
      "58500/58500 [==============================] - 1s 17us/step - loss: 0.2460 - acc: 0.9132 - val_loss: 0.3349 - val_acc: 0.9233\n",
      "Epoch 100/120\n",
      "58500/58500 [==============================] - 1s 16us/step - loss: 0.2454 - acc: 0.9130 - val_loss: 0.3184 - val_acc: 0.9273\n",
      "Epoch 101/120\n",
      "58500/58500 [==============================] - 1s 16us/step - loss: 0.2446 - acc: 0.9137 - val_loss: 0.3312 - val_acc: 0.9247\n",
      "Epoch 102/120\n",
      "58500/58500 [==============================] - 1s 16us/step - loss: 0.2438 - acc: 0.9145 - val_loss: 0.3221 - val_acc: 0.9253\n",
      "Epoch 103/120\n",
      "58500/58500 [==============================] - 1s 16us/step - loss: 0.2432 - acc: 0.9146 - val_loss: 0.3523 - val_acc: 0.9213\n",
      "Epoch 104/120\n",
      "58500/58500 [==============================] - 1s 17us/step - loss: 0.2425 - acc: 0.9151 - val_loss: 0.3319 - val_acc: 0.9253\n",
      "Epoch 105/120\n",
      "58500/58500 [==============================] - 1s 18us/step - loss: 0.2416 - acc: 0.9151 - val_loss: 0.3360 - val_acc: 0.9247\n",
      "Epoch 106/120\n",
      "58500/58500 [==============================] - 1s 18us/step - loss: 0.2409 - acc: 0.9158 - val_loss: 0.3406 - val_acc: 0.9220\n",
      "Epoch 107/120\n",
      "58500/58500 [==============================] - 1s 17us/step - loss: 0.2403 - acc: 0.9156 - val_loss: 0.3507 - val_acc: 0.9187\n",
      "Epoch 108/120\n",
      "58500/58500 [==============================] - 1s 16us/step - loss: 0.2400 - acc: 0.9159 - val_loss: 0.3671 - val_acc: 0.9173\n",
      "Epoch 109/120\n",
      "58500/58500 [==============================] - 1s 18us/step - loss: 0.2387 - acc: 0.9163 - val_loss: 0.3387 - val_acc: 0.9240\n",
      "Epoch 110/120\n",
      "58500/58500 [==============================] - 1s 19us/step - loss: 0.2381 - acc: 0.9162 - val_loss: 0.3097 - val_acc: 0.9300\n",
      "Epoch 111/120\n",
      "58500/58500 [==============================] - 1s 18us/step - loss: 0.2376 - acc: 0.9169 - val_loss: 0.3502 - val_acc: 0.9207\n",
      "Epoch 112/120\n",
      "58500/58500 [==============================] - 1s 17us/step - loss: 0.2369 - acc: 0.9173 - val_loss: 0.3302 - val_acc: 0.9240\n",
      "Epoch 113/120\n",
      "58500/58500 [==============================] - 1s 16us/step - loss: 0.2361 - acc: 0.9168 - val_loss: 0.3217 - val_acc: 0.9280\n",
      "Epoch 114/120\n",
      "58500/58500 [==============================] - 1s 17us/step - loss: 0.2355 - acc: 0.9182 - val_loss: 0.3372 - val_acc: 0.9240\n",
      "Epoch 115/120\n",
      "58500/58500 [==============================] - 1s 17us/step - loss: 0.2347 - acc: 0.9183 - val_loss: 0.3314 - val_acc: 0.9260\n",
      "Epoch 116/120\n",
      "58500/58500 [==============================] - 1s 17us/step - loss: 0.2338 - acc: 0.9186 - val_loss: 0.3294 - val_acc: 0.9267\n",
      "Epoch 117/120\n",
      "58500/58500 [==============================] - 1s 16us/step - loss: 0.2332 - acc: 0.9185 - val_loss: 0.3203 - val_acc: 0.9280\n"
     ]
    },
    {
     "name": "stdout",
     "output_type": "stream",
     "text": [
      "Epoch 118/120\n",
      "58500/58500 [==============================] - 1s 17us/step - loss: 0.2325 - acc: 0.9188 - val_loss: 0.3140 - val_acc: 0.9313\n",
      "Epoch 119/120\n",
      "58500/58500 [==============================] - 1s 17us/step - loss: 0.2319 - acc: 0.9193 - val_loss: 0.3494 - val_acc: 0.9220\n",
      "Epoch 120/120\n",
      "58500/58500 [==============================] - 1s 17us/step - loss: 0.2311 - acc: 0.9199 - val_loss: 0.3282 - val_acc: 0.9280\n"
     ]
    }
   ],
   "source": [
    "#Your code here\n",
    "history = model_1.fit(train, label_train, batch_size=256, epochs=120, validation_data=(test, label_test))"
   ]
  },
  {
   "cell_type": "markdown",
   "metadata": {},
   "source": [
    "Recall that the dictionary `history` has two entries: the loss and the accuracy achieved using the training set."
   ]
  },
  {
   "cell_type": "code",
   "execution_count": 41,
   "metadata": {},
   "outputs": [
    {
     "data": {
      "text/plain": [
       "dict_keys(['val_loss', 'val_acc', 'loss', 'acc'])"
      ]
     },
     "execution_count": 41,
     "metadata": {},
     "output_type": "execute_result"
    }
   ],
   "source": [
    "history_dict = history.history\n",
    "history_dict.keys()"
   ]
  },
  {
   "cell_type": "markdown",
   "metadata": {},
   "source": [
    "## Plot the results\n",
    "\n",
    "As you might expect, we'll use our ```import matplotlib.pyplot as plt``` for graphing. Use the data stored in the history_dict above to plot the loss vs epochs and the accuracy vs epochs."
   ]
  },
  {
   "cell_type": "code",
   "execution_count": 42,
   "metadata": {},
   "outputs": [],
   "source": [
    "#Your code here; plot the loss vs the number of epoch\n",
    "def visualize_loss(model_results):\n",
    "    history = model_results.history\n",
    "    training_loss_values = history['loss']\n",
    "    val_loss_values = history['val_loss']\n",
    "\n",
    "    epochs = range(1, len(training_loss_values) + 1)\n",
    "    plt.plot(epochs, training_loss_values, 'g', label='Training Loss')\n",
    "    plt.plot(epochs, val_loss_values, 'r', label='Val Loss')\n",
    "\n",
    "    plt.title('Training vs Val Loss')\n",
    "    plt.xlabel('Epochs')\n",
    "    plt.ylabel('Loss')\n",
    "    plt.legend()\n",
    "    plt.show()\n",
    "    \n",
    "def visualize_accuracy(model_results):\n",
    "    history = model_results.history\n",
    "    training_acc_values = history['acc']\n",
    "    val_acc_values = history['val_acc']\n",
    "\n",
    "    epochs = range(1, len(training_acc_values) + 1)\n",
    "    plt.plot(epochs, training_acc_values, 'g', label='Training Accuracy')\n",
    "    plt.plot(epochs, val_acc_values, 'r', label='Val Accuracy')\n",
    "\n",
    "    plt.title('Training vs Val Accuracy')\n",
    "    plt.xlabel('Epochs')\n",
    "    plt.ylabel('Accuracy')\n",
    "    plt.legend()\n",
    "    plt.show()\n",
    "\n"
   ]
  },
  {
   "cell_type": "code",
   "execution_count": 43,
   "metadata": {},
   "outputs": [
    {
     "data": {
      "image/png": "[encoded data removed]",
      "text/plain": [
       "<Figure size 432x288 with 1 Axes>"
      ]
     },
     "metadata": {
      "needs_background": "light"
     },
     "output_type": "display_data"
    }
   ],
   "source": [
    "#Your code here; plot the training accuracy vs the number of epochs\n",
    "visualize_accuracy(history)"
   ]
  },
  {
   "cell_type": "code",
   "execution_count": 44,
   "metadata": {},
   "outputs": [
    {
     "data": {
      "image/png": "[encoded data removed]",
      "text/plain": [
       "<Figure size 432x288 with 1 Axes>"
      ]
     },
     "metadata": {
      "needs_background": "light"
     },
     "output_type": "display_data"
    }
   ],
   "source": [
    "visualize_loss(history)"
   ]
  },
  {
   "cell_type": "markdown",
   "metadata": {},
   "source": [
    "It seems like we could just keep on going and accuracy would go up!"
   ]
  },
  {
   "cell_type": "markdown",
   "metadata": {},
   "source": [
    "## Make predictions\n",
    "\n",
    "Finally, it's time to output. Use the method discussed in the previous lesson to output (probability) predictions for the test set."
   ]
  },
  {
   "cell_type": "code",
   "execution_count": 37,
   "metadata": {},
   "outputs": [],
   "source": [
    "y_hat_test = model_1.predict(test)"
   ]
  },
  {
   "cell_type": "markdown",
   "metadata": {},
   "source": [
    "## Evaluate Performance\n",
    "\n",
    "Finally, print the loss and accuracy for both the train and test sets of the final trained model."
   ]
  },
  {
   "cell_type": "code",
   "execution_count": 38,
   "metadata": {},
   "outputs": [
    {
     "name": "stdout",
     "output_type": "stream",
     "text": [
      "58500/58500 [==============================] - 2s 28us/step\n"
     ]
    },
    {
     "data": {
      "text/plain": [
       "[0.36262790890802177, 0.8647863247863248]"
      ]
     },
     "execution_count": 38,
     "metadata": {},
     "output_type": "execute_result"
    }
   ],
   "source": [
    "#Your code here; print the loss and accuracy for the training set.\n",
    "results_train = model_1.evaluate(train, label_train)\n",
    "results_train"
   ]
  },
  {
   "cell_type": "code",
   "execution_count": 39,
   "metadata": {},
   "outputs": [
    {
     "name": "stdout",
     "output_type": "stream",
     "text": [
      "1500/1500 [==============================] - 0s 40us/step\n"
     ]
    },
    {
     "data": {
      "text/plain": [
       "[0.16458483107884725, 0.9526666665077209]"
      ]
     },
     "execution_count": 39,
     "metadata": {},
     "output_type": "execute_result"
    }
   ],
   "source": [
    "#Your code here; print the loss and accuracy for the test set.\n",
    "results_test = model_1.evaluate(test, label_test)\n",
    "results_test"
   ]
  },
  {
   "cell_type": "markdown",
   "metadata": {},
   "source": [
    "We can see that the training set results are really good, but the test set results lag behind. In the next lab. We'll talk a little more about this in the next lecture, and will discuss how we can get better test set results as well!"
   ]
  },
  {
   "cell_type": "markdown",
   "metadata": {},
   "source": [
    "## Additional Resources"
   ]
  },
  {
   "cell_type": "markdown",
   "metadata": {},
   "source": [
    "https://github.com/susanli2016/Machine-Learning-with-Python/blob/master/Consumer_complaints.ipynb"
   ]
  },
  {
   "cell_type": "markdown",
   "metadata": {},
   "source": [
    "https://catalog.data.gov/dataset/consumer-complaint-database"
   ]
  },
  {
   "cell_type": "markdown",
   "metadata": {},
   "source": [
    "## Summary \n",
    "\n",
    "Congratulations! In this lab, you built a neural network with much less production time thanks to the tools provided by Keras! In upcoming lessons and labs we'll continue to investigate further ideas regarding how to tune and refine these models for increased accuracy and performance."
   ]
  }
 ],
 "metadata": {
  "kernelspec": {
   "display_name": "Python 3",
   "language": "python",
   "name": "python3"
  },
  "language_info": {
   "codemirror_mode": {
    "name": "ipython",
    "version": 3
   },
   "file_extension": ".py",
   "mimetype": "text/x-python",
   "name": "python",
   "nbconvert_exporter": "python",
   "pygments_lexer": "ipython3",
   "version": "3.6.9"
  },
  "toc": {
   "base_numbering": 1,
   "nav_menu": {},
   "number_sections": true,
   "sideBar": true,
   "skip_h1_title": false,
   "title_cell": "Table of Contents",
   "title_sidebar": "Contents",
   "toc_cell": false,
   "toc_position": {},
   "toc_section_display": true,
   "toc_window_display": false
  }
 },
 "nbformat": 4,
 "nbformat_minor": 2
}
